{
  "nbformat": 4,
  "nbformat_minor": 0,
  "metadata": {
    "colab": {
      "name": "Running inference on T5.ipynb",
      "provenance": [],
      "collapsed_sections": []
    },
    "kernelspec": {
      "name": "python3",
      "display_name": "Python 3"
    },
    "language_info": {
      "name": "python"
    }
  },
  "cells": [
    {
      "cell_type": "code",
      "execution_count": null,
      "metadata": {
        "id": "3V6-RkGsZktd"
      },
      "outputs": [],
      "source": [
        "!pip install -U transformers==3.0.0"
      ]
    },
    {
      "cell_type": "code",
      "source": [
        "!python -m nltk.downloader punkt"
      ],
      "metadata": {
        "id": "qbVSlXbPZo4b"
      },
      "execution_count": null,
      "outputs": []
    },
    {
      "cell_type": "code",
      "source": [
        "!git clone https://github.com/patil-suraj/question_generation.git"
      ],
      "metadata": {
        "id": "ch0D4iOtZrXE"
      },
      "execution_count": null,
      "outputs": []
    },
    {
      "cell_type": "markdown",
      "source": [
        "In the next block, enter the google drive id of the input and reference files to be loaded as the context and rename the file variables to be their path. \n",
        "Alternatively, in case a local file being used, comment out the gdown line and set file to be the path of the context file.\n",
        "\n",
        "Also, set the output_file_name to be the path to the output file."
      ],
      "metadata": {
        "id": "7YsWzwfblw9I"
      }
    },
    {
      "cell_type": "code",
      "source": [
        "import os\n",
        "os.chdir(\"/content/\")\n",
        "!gdown '1KJ66LbUiPH-uLzuSMvJRTGjXrM-XnHCY'\n",
        "!gdown '1KHj25NWCVCZu7ViHz8bUAKL990ge_Jd4'\n",
        "file = \"/content/context.txt\"\n",
        "ref_file = \"/content/references.txt\"\n",
        "output_file_name = \"/content/t5_small_hypothesis.txt\""
      ],
      "metadata": {
        "id": "ENRolCN2Zsph"
      },
      "execution_count": null,
      "outputs": []
    },
    {
      "cell_type": "code",
      "source": [
        "os.chdir(\"question_generation\")\n",
        "from pipelines import pipeline\n",
        "nlp = pipeline(\"multitask-qa-qg\")"
      ],
      "metadata": {
        "id": "KKtOaSeiZzvF"
      },
      "execution_count": null,
      "outputs": []
    },
    {
      "cell_type": "code",
      "source": [
        "f = open(file,'r')\n",
        "list = []\n",
        "for line in f:\n",
        "  s = \"\"\n",
        "  for c in line:\n",
        "    if (c != '\"'):\n",
        "      s += c\n",
        "  print(s)\n",
        "  list += nlp(s)\n",
        "f.close()"
      ],
      "metadata": {
        "id": "39Bpuv9Yb6Kp"
      },
      "execution_count": null,
      "outputs": []
    },
    {
      "cell_type": "code",
      "source": [
        "questions = [x['question']+'\\n' for x in list]\n",
        "answers = [x['answer'] for x in list]\n",
        "print(len(list))\n",
        "print(list)\n",
        "print(questions)\n"
      ],
      "metadata": {
        "id": "9nNeviY1epUu"
      },
      "execution_count": null,
      "outputs": []
    },
    {
      "cell_type": "code",
      "source": [
        "out = open(output_file_name, \"w\")\n",
        "out.writelines(questions)\n",
        "out.close()"
      ],
      "metadata": {
        "id": "THfemfKVimFa"
      },
      "execution_count": null,
      "outputs": []
    },
    {
      "cell_type": "code",
      "source": [
        "\n",
        "f3 = open(ref_file, \"r\")\n",
        "references = []\n",
        "blref = []\n",
        "for line in f3:\n",
        "#     print(line)\n",
        "    blref.insert(0, line)\n",
        "    references.insert(0, line.split())\n",
        "print(len(references))\n",
        "f3.close()"
      ],
      "metadata": {
        "id": "tN3qvxBntlfE"
      },
      "execution_count": null,
      "outputs": []
    },
    {
      "cell_type": "markdown",
      "source": [
        "Now, we evaluate the generated questions using the BLEU and METEOR scores of the generated questions with respect to the reference questions. For this purpose we use the nltk library, the use of which is illustrated here."
      ],
      "metadata": {
        "id": "JImbU-rswots"
      }
    },
    {
      "cell_type": "code",
      "source": [
        "import nltk\n",
        "nltk.download('wordnet')\n",
        "nltk.download('omw-1.4')\n",
        "hypothesis = ['It', 'is', 'a', 'cat', 'at', 'room']\n",
        "reference = ['It', 'is', 'a', 'cat', 'inside', 'the', 'room']\n",
        "#there may be several references\n",
        "BLEUscore = nltk.translate.bleu_score.sentence_bleu([reference], hypothesis)\n",
        "print(BLEUscore)\n",
        "METEOR = nltk.translate.meteor_score.meteor_score([reference], hypothesis)\n",
        "print(f\"{line}METEOR : {METEOR}\\n\")"
      ],
      "metadata": {
        "id": "DW2owz20uWW0"
      },
      "execution_count": null,
      "outputs": []
    },
    {
      "cell_type": "code",
      "source": [
        "f2 = open(output_file_name, \"r\")\n",
        "i = 0\n",
        "BLEUdict = {}\n",
        "METEORdict = {}\n",
        "for line in f2:\n",
        "#     print(line)\n",
        "    i = i + 1\n",
        "    hypothesis = line\n",
        "    BLEUscore = nltk.translate.bleu_score.sentence_bleu(blref, hypothesis)\n",
        "    BLEUdict[line] = BLEUscore\n",
        "    print(f\"{i} : {line}BLEU4 : {BLEUscore}\\n\")\n",
        "    METEORscore = nltk.translate.meteor_score.meteor_score(references, hypothesis.split())\n",
        "    METEORdict[line] = METEORscore\n",
        "    print(f\"METEOR : {METEORscore}\\n\")\n",
        "f2.close()"
      ],
      "metadata": {
        "id": "yjAyVa8PuyZH"
      },
      "execution_count": null,
      "outputs": []
    },
    {
      "cell_type": "code",
      "source": [
        "sorted(BLEUdict.items(), key=lambda item: item[-1], reverse = True)"
      ],
      "metadata": {
        "id": "dBm-GaP9u7wN"
      },
      "execution_count": null,
      "outputs": []
    },
    {
      "cell_type": "code",
      "source": [
        "sorted(METEORdict.items(), key=lambda item: item[1], reverse = True)"
      ],
      "metadata": {
        "id": "XBQz7B5fvFT1"
      },
      "execution_count": null,
      "outputs": []
    },
    {
      "cell_type": "code",
      "source": [
        "print(sum(BLEUdict.values()) / len(BLEUdict.values()))\n",
        "print(sum(METEORdict.values()) / len(METEORdict.values()))\n",
        "print(sum(sorted(BLEUdict.values(),reverse = True)[0:12]) / 12)\n",
        "print(sum(sorted(METEORdict.values(),reverse = True)[0:12]) / 12)"
      ],
      "metadata": {
        "id": "RTT0mQjUUktt"
      },
      "execution_count": null,
      "outputs": []
    }
  ]
}